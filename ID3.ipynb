{
 "cells": [
  {
   "attachments": {},
   "cell_type": "markdown",
   "metadata": {},
   "source": [
    "### Elementy sztucznej inteligencji\n",
    "# Projekt: Binarne Drzewa Decyzyjne\n",
    "autorzy:\n",
    "1. Arkadiusz Florek\n",
    "2. Maciej Komosa\n",
    "3. Albert Pieniądz\n",
    "4. Jakub Zięba"
   ]
  },
  {
   "attachments": {},
   "cell_type": "markdown",
   "metadata": {},
   "source": [
    "## TODO: Id3, opis jak działa wezel\n",
    "### błędy:\n",
    "1. dane nie są formatowane jak dane w przykładzie w linku (na dole)\n",
    "2. prawdopodobniej ostatecznie trzeba będzie usunąć klasę, bo trzeba było to zrobic w skrypcie, ale w klasie lepiej widać co jest grane\n",
    "### możliwe rozwiązania: zastosować formatowanie z maila od prof'a albo jakieś prostsze"
   ]
  },
  {
   "cell_type": "code",
   "execution_count": 149,
   "metadata": {},
   "outputs": [],
   "source": [
    "import numpy as np, pandas as pd"
   ]
  },
  {
   "attachments": {},
   "cell_type": "markdown",
   "metadata": {},
   "source": [
    "Klasa Węzła"
   ]
  },
  {
   "cell_type": "code",
   "execution_count": 162,
   "metadata": {},
   "outputs": [],
   "source": [
    "class Wezel:\n",
    "    def __init__(self):\n",
    "        self.wartosc = None\n",
    "        self.kolejny = None\n",
    "        self.dzieci = []"
   ]
  },
  {
   "attachments": {},
   "cell_type": "markdown",
   "metadata": {},
   "source": [
    "Obliczanie entropii"
   ]
  },
  {
   "cell_type": "code",
   "execution_count": 151,
   "metadata": {},
   "outputs": [],
   "source": [
    "from math import log2\n",
    "\n",
    "def _entropia(dane):\n",
    "        # Tworzymy słownik, w którym kluczem jest wartość, a wartością liczba wystąpień tej wartości\n",
    "        slownikWartosci = {}\n",
    "        for _ in dane:\n",
    "            atrybut = _[-1]\n",
    "            if atrybut not in slownikWartosci:\n",
    "                slownikWartosci[atrybut] = 0\n",
    "            slownikWartosci[atrybut] += 1\n",
    "    \n",
    "        # Obliczamy entropię dla danej tabeli ze wzoru\n",
    "        entropia = 0.0\n",
    "        for _ in slownikWartosci.values():\n",
    "            p = _ / len(dane)\n",
    "            entropia -= p * log2(p)\n",
    "    \n",
    "        return entropia"
   ]
  },
  {
   "attachments": {},
   "cell_type": "markdown",
   "metadata": {},
   "source": [
    "Obliczanie zysku informacji"
   ]
  },
  {
   "cell_type": "code",
   "execution_count": 152,
   "metadata": {},
   "outputs": [],
   "source": [
    "def _zysk_informacji(dane, przeslanka):\n",
    "        # Tworzymy słownik, w którym kluczem jest wartość, a wartością lista wierszy z tą wartością\n",
    "        wartosci_przeslanek = {}\n",
    "        for wiersz in [*range(len(dane))]:\n",
    "            wartosc = dane[wiersz, przeslanka]\n",
    "            if wartosc not in wartosci_przeslanek:\n",
    "                wartosci_przeslanek[wartosc] = []\n",
    "            wartosci_przeslanek[wartosc].append(dane[wiersz])\n",
    "    \n",
    "        # Obliczamy entropię dla każdego podziału i sumujemy, aby uzyskać entropię po podziale\n",
    "        ilosc_wierszy = len(dane)\n",
    "        entropie = []\n",
    "        for wartosci_przeslanki in wartosci_przeslanek.values():\n",
    "            ilosc_wartosci_przeslanki = len(wartosci_przeslanki)\n",
    "            entropia_przeslanki = _entropia(wartosci_przeslanki)\n",
    "            entropie.append((ilosc_wartosci_przeslanki / ilosc_wierszy) * entropia_przeslanki)\n",
    "        entropia_przeslanki = sum(entropie)\n",
    "    \n",
    "        # Obliczamy przyrost informacji\n",
    "        zysk = _entropia(dane) - entropia_przeslanki\n",
    "    \n",
    "        return zysk"
   ]
  },
  {
   "attachments": {},
   "cell_type": "markdown",
   "metadata": {},
   "source": [
    "Obliczanie przeslanki o najwiekszym zysku"
   ]
  },
  {
   "cell_type": "code",
   "execution_count": 153,
   "metadata": {},
   "outputs": [],
   "source": [
    "def _przeslanka_o_najwiekszym_zysku(dane, nazwy_przeslanek, przeslanki_indeksy):\n",
    "        \n",
    "        # tabela przeslanek, czyli tabela o wartosciach\n",
    "        # z zakresu dlugosci jednego wiersza odjąć konkluzję\n",
    "\n",
    "        entropie_przeslanek = [_zysk_informacji(dane, przeslanka) for przeslanka in przeslanki_indeksy]\n",
    "        indeks_przeslanka_o_najwiekszym_zysku = przeslanki_indeksy[entropie_przeslanek.index(max(entropie_przeslanek))]\n",
    "\n",
    "        return nazwy_przeslanek[indeks_przeslanka_o_najwiekszym_zysku], indeks_przeslanka_o_najwiekszym_zysku"
   ]
  },
  {
   "attachments": {},
   "cell_type": "markdown",
   "metadata": {},
   "source": [
    "Algorytm id3 i jego rekursywny modul"
   ]
  },
  {
   "cell_type": "code",
   "execution_count": 184,
   "metadata": {},
   "outputs": [],
   "source": [
    "def _id3(dane, nazwy_przeslanek, konkluzje, wezel):\n",
    "    \n",
    "        # indeksy\n",
    "        dane_indeksy =[*range(len(dane))]\n",
    "\n",
    "        #przeslanki\n",
    "        przeslanki_indeksy = [*range(len(nazwy_przeslanek))]\n",
    "        return _id3_rekursja(dane, dane_indeksy,\n",
    "                                   przeslanki_indeksy,\n",
    "                                   wezel)\n",
    "\n",
    "def _id3_rekursja(dane, dane_indeksy, przeslanki_indeksy, wezel):\n",
    "        if not wezel:\n",
    "            wezel = Wezel()  # inicjalizacja wezla\n",
    "        # konkluzje\n",
    "        klasy_w_przeslankach = dane[:, -1]\n",
    "        # jesli wszystkie wiersze maja ta sama konkluzje\n",
    "        if len(set(klasy_w_przeslankach)) == 1:\n",
    "            wezel.wartosc = dane[dane_indeksy[0], -1]\n",
    "            return wezel\n",
    "        if len(przeslanki_indeksy) == 0:\n",
    "        # jesli nie ma juz wiecej do policzenia\n",
    "            wezel.wartosc = max(set(klasy_w_przeslankach), key=list(klasy_w_przeslankach).count)\n",
    "            return wezel\n",
    "        # wybieramy przeslankę o największym zysku\n",
    "        najlepsza_przeslanka, indeks_najlepszej_przeslanki = _przeslanka_o_najwiekszym_zysku(dane, dane_indeksy, przeslanki_indeksy)\n",
    "        wezel.wartosc = najlepsza_przeslanka\n",
    "        wezel.dzieci = []\n",
    "        # wartosc przeslanki dla kazdego wiersza\n",
    "        wartosci_przeslanek = list(set([dane[i][indeks_najlepszej_przeslanki] for i in dane_indeksy]))\n",
    "        # pętla przez wszystkie wartosci przeslanki\n",
    "        for wartosc in wartosci_przeslanek:\n",
    "            dziecko = Wezel()\n",
    "            dziecko.wartosc = wartosc\n",
    "            wezel.dzieci.append(dziecko)\n",
    "            dziecko_dane = np.array([i for i in dane_indeksy if dane[i][indeks_najlepszej_przeslanki] == wartosc])\n",
    "            if not dziecko_dane.any():\n",
    "                dziecko.kolejny = max(set([klasy_w_przeslankach]), key=list(klasy_w_przeslankach).count)\n",
    "            else:\n",
    "                if przeslanki_indeksy and indeks_najlepszej_przeslanki in przeslanki_indeksy:\n",
    "                    do_wyciecia = przeslanki_indeksy.index(indeks_najlepszej_przeslanki)\n",
    "                    przeslanki_indeksy.pop(do_wyciecia)\n",
    "                # rekursja\n",
    "                dziecko.kolejny = _id3_rekursja(dane, dziecko_dane, przeslanki_indeksy, dziecko.kolejny)\n",
    "        return wezel"
   ]
  },
  {
   "attachments": {},
   "cell_type": "markdown",
   "metadata": {},
   "source": [
    "Graf"
   ]
  },
  {
   "cell_type": "code",
   "execution_count": 174,
   "metadata": {},
   "outputs": [],
   "source": [
    "from graphviz import Digraph\n",
    "\n",
    "def _dot_graph(node, dot=None):\n",
    "    if dot is None:\n",
    "        dot = Digraph(comment='ID3 Decision Tree')\n",
    "    if node is None:\n",
    "        return dot\n",
    "    else:\n",
    "        dot.node(str(id(node)), str(node.wartosc))\n",
    "        for child_node in node.dzieci:\n",
    "            _dot_graph(child_node.kolejny, dot)\n",
    "            dot.edge(str(id(node)), str(id(child_node)), label=str(node.wartosc))\n",
    "    return dot"
   ]
  },
  {
   "attachments": {},
   "cell_type": "markdown",
   "metadata": {},
   "source": [
    "Zadanie"
   ]
  },
  {
   "cell_type": "code",
   "execution_count": 185,
   "metadata": {},
   "outputs": [
    {
     "name": "stdout",
     "output_type": "stream",
     "text": [
      "entropia:  2.67943596719348\n",
      "zysk informacji:\n",
      "0 0.1651500355641029\n",
      "1 0.06226147757579792\n",
      "2 0.09413277111930896\n",
      "3 0.06929896561476978\n",
      "4 0.21714308177218555\n",
      "przeslanka p najwiekszym zysku: ('typ treningu', 4)\n",
      "dziecko silowy\n",
      "dziecko miasto\n",
      "dziecko 3-5\n",
      "dziecko w parze\n",
      "dziecko zaawansowany\n",
      "3 if: 2\n",
      "dziecko amator\n",
      "3 if: 2\n",
      "dziecko poczatkujacy\n",
      "3 if: 2\n",
      "dziecko indywidualnie\n",
      "3 if: 2\n",
      "dziecko w grupie\n",
      "3 if: 2\n",
      "dziecko <2\n",
      "3 if: 2\n",
      "dziecko >5\n",
      "3 if: 2\n",
      "dziecko wies\n",
      "3 if: 2\n",
      "dziecko rekreacyjny\n",
      "3 if: 2\n",
      "dziecko wytrzymalosciowy\n",
      "3 if: 2\n",
      "dziecko techniczny\n",
      "3 if: 2\n",
      "108\n",
      "2\n",
      "2\n",
      "2\n"
     ]
    }
   ],
   "source": [
    "#pobieranie danych z nagłówkami i przesyłanie ich do funkcji - dane i nagłówki oddzielnie - trochę śmie\n",
    "dane = pd.read_csv(\"sport.csv\", header=None).to_numpy()\n",
    "drzewo = Wezel()\n",
    "print(\"entropia: \", _entropia(dane[1:, -1])) # <- działa\n",
    "print(\"zysk informacji:\")\n",
    "for i in range(len(dane[1, :-1])):\n",
    "    print(i, _zysk_informacji(dane[1:, :], i)) # <- działa\n",
    "print(\"przeslanka p najwiekszym zysku:\", _przeslanka_o_najwiekszym_zysku(dane[1:, :], dane[0, :-1], [*range(len(dane[0, :-1]))])) # <- działa\n",
    "drzewo = _id3(dane[1:, :], dane[0, :-1], dane[1:, -1], drzewo) # <- działa??\n",
    "for _ in drzewo.dzieci:\n",
    "    print(_.kolejny.wartosc)"
   ]
  }
 ],
 "metadata": {
  "kernelspec": {
   "display_name": "Python 3",
   "language": "python",
   "name": "python3"
  },
  "language_info": {
   "codemirror_mode": {
    "name": "ipython",
    "version": 3
   },
   "file_extension": ".py",
   "mimetype": "text/x-python",
   "name": "python",
   "nbconvert_exporter": "python",
   "pygments_lexer": "ipython3",
   "version": "3.9.10"
  },
  "orig_nbformat": 4
 },
 "nbformat": 4,
 "nbformat_minor": 2
}
