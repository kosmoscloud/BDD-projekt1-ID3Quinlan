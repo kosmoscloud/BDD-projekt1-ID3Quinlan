{
 "cells": [
  {
   "attachments": {},
   "cell_type": "markdown",
   "metadata": {},
   "source": [
    "### Elementy sztucznej inteligencji\n",
    "# Projekt: Binarne Drzewa Decyzyjne\n",
    "autorzy:\n",
    "1. Arkadiusz Florek\n",
    "2. Maciej Komosa\n",
    "3. Albert Pieniądz\n",
    "4. Jakub Zięba"
   ]
  },
  {
   "cell_type": "code",
   "execution_count": 1,
   "metadata": {},
   "outputs": [],
   "source": [
    "import numpy as np, pandas as pd, math as mat"
   ]
  },
  {
   "attachments": {},
   "cell_type": "markdown",
   "metadata": {},
   "source": [
    "Funkcje do obliczania entropii dla danej konkluzji"
   ]
  },
  {
   "cell_type": "code",
   "execution_count": 27,
   "metadata": {},
   "outputs": [],
   "source": [
    "def prawdopodobienstwo(wartosci, unikatowe_wartosci):\n",
    "\n",
    "    # tabela zawierająca częstości wystąpienia poszczególnych wartości przesłanek\n",
    "    p_tab = np.zeros(len(unikatowe_wartosci))\n",
    "\n",
    "    for indeks, unikatowa_wartosc in enumerate(unikatowe_wartosci):\n",
    "\n",
    "        for wartosc in wartosci:\n",
    "\n",
    "            if wartosc == unikatowa_wartosc:\n",
    "                p_tab[indeks] += 1\n",
    "\n",
    "    p_tab = p_tab / len(wartosci)\n",
    "    return p_tab\n"
   ]
  },
  {
   "cell_type": "code",
   "execution_count": 3,
   "metadata": {},
   "outputs": [],
   "source": [
    "def entropia(p_tab):\n",
    "    I = 0\n",
    "    for p in p_tab:\n",
    "        if p == 0:\n",
    "            continue\n",
    "        else:\n",
    "            I += -p*mat.log2(p)\n",
    "    return I"
   ]
  },
  {
   "attachments": {},
   "cell_type": "markdown",
   "metadata": {},
   "source": [
    "Klasa węzła"
   ]
  },
  {
   "cell_type": "code",
   "execution_count": 4,
   "metadata": {},
   "outputs": [],
   "source": [
    "class wezel:\n",
    "\n",
    "    def __init__(self):\n",
    "        self.value = None\n",
    "        self.next = None\n",
    "        self.childs = None"
   ]
  },
  {
   "attachments": {},
   "cell_type": "markdown",
   "metadata": {},
   "source": [
    "Importowanie danych"
   ]
  },
  {
   "cell_type": "code",
   "execution_count": 5,
   "metadata": {},
   "outputs": [],
   "source": [
    "data = pd.read_csv(\"sport.csv\")\n",
    "data.head()\n",
    "X = data.iloc[:, 0:-1]\n",
    "Y = data.iloc[:, -1]"
   ]
  },
  {
   "cell_type": "code",
   "execution_count": 35,
   "metadata": {},
   "outputs": [],
   "source": [
    "p_tab = []; p_buf = []\n",
    "e_tab = []; e_buf = []\n",
    "\n",
    "for przeslanka in range(X.shape[1]):\n",
    "\n",
    "    for konkluzja in range(len(set(Y))):\n",
    "\n",
    "        wartosci = X.iloc[:, przeslanka]\n",
    "        \n",
    "        konkluzja += 1\n",
    "        unikatowe_wartosci = list(set(wartosci))\n",
    "\n",
    "        wartosci = wartosci[Y == konkluzja]\n",
    "    \n",
    "        p_buf.append(prawdopodobienstwo(wartosci, unikatowe_wartosci))\n",
    "        e_buf.append(entropia(p_buf[-1]))\n",
    "\n",
    "    p_tab.append(p_buf)\n",
    "    e_tab.append(e_buf)\n",
    "    p_buf = []\n",
    "    e_buf = []"
   ]
  },
  {
   "cell_type": "code",
   "execution_count": 33,
   "metadata": {},
   "outputs": [
    {
     "name": "stdout",
     "output_type": "stream",
     "text": [
      "[[0.9252253278054432, 0.7950402793845223, 0.9509560484549725, 0.6840384356390417, 0.7219280948873623, 0.8865408928220899, 0.9456603046006402], [1.5441141771508817, 1.5690255736436507, 1.5448491887169091, 1.5300303808171334, 1.5413152774012366, 1.574331785544523, 0.9940302114769565], [1.4870439806899802, 1.508894704985911, 1.5610150105933092, 1.580982641705794, 1.404107451387086, 1.4224751175914554, 1.3221793455166666], [1.5450122867835447, 1.5609563153489607, 1.3800943362833298, 1.4949188482339508, 1.55352095112747, 1.4777468341000444, 1.5726236638951638], [1.9330643714792726, 1.9408786445478214, 1.584962500721156, 1.893666744453497, 1.4986885704510973, 1.7349112826910291, 1.3221793455166666]]\n"
     ]
    }
   ],
   "source": [
    "# entropia inicjalna\n",
    "entropia(prawdopodobienstwo(Y, set(Y)))"
   ]
  },
  {
   "cell_type": "code",
   "execution_count": 36,
   "metadata": {},
   "outputs": [
    {
     "data": {
      "text/plain": [
       "array([0., 0., 0., 0., 0., 0., 0.])"
      ]
     },
     "execution_count": 36,
     "metadata": {},
     "output_type": "execute_result"
    }
   ],
   "source": [
    "I_tab = np.zeros(len(set(Y)))\n",
    "I_buf = 0\n",
    "\n",
    "for indeks, I in enumerate(I_tab):\n",
    "    \n",
    "    for e in e_tab:\n",
    "        I_buf += e[indeks]\n",
    "    \n",
    "    I = I_buf\n",
    "    I_buf = 0\n",
    "\n",
    "I_tab"
   ]
  }
 ],
 "metadata": {
  "kernelspec": {
   "display_name": "Python 3",
   "language": "python",
   "name": "python3"
  },
  "language_info": {
   "codemirror_mode": {
    "name": "ipython",
    "version": 3
   },
   "file_extension": ".py",
   "mimetype": "text/x-python",
   "name": "python",
   "nbconvert_exporter": "python",
   "pygments_lexer": "ipython3",
   "version": "3.9.10"
  },
  "orig_nbformat": 4
 },
 "nbformat": 4,
 "nbformat_minor": 2
}
