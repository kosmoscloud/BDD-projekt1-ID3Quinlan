{
 "cells": [
  {
   "attachments": {},
   "cell_type": "markdown",
   "metadata": {},
   "source": [
    "### Elementy sztucznej inteligencji\n",
    "# Projekt: Binarne Drzewa Decyzyjne\n",
    "autorzy:\n",
    "1. Arkadiusz Florek\n",
    "2. Maciej Komosa\n",
    "3. Albert Pieniądz\n",
    "4. Jakub Zięba"
   ]
  },
  {
   "cell_type": "code",
   "execution_count": 1,
   "metadata": {},
   "outputs": [],
   "source": [
    "import numpy as np, pandas as pd, math as mat"
   ]
  },
  {
   "attachments": {},
   "cell_type": "markdown",
   "metadata": {},
   "source": [
    "Funkcje do obliczania entropii dla danej konkluzji"
   ]
  },
  {
   "cell_type": "code",
   "execution_count": 9,
   "metadata": {},
   "outputs": [],
   "source": [
    "def prawdopodobienstwo(wartosci, konkluzje, nr_konkluzji):\n",
    "\n",
    "    nr_konkluzji += 1\n",
    "    unikatowe_wartosci = list(set(wartosci))\n",
    "\n",
    "    wartosci = wartosci[konkluzje == nr_konkluzji]\n",
    "\n",
    "    # tabela zawierająca częstości wystąpienia poszczególnych wartości przesłanek\n",
    "    p_tab = np.zeros(len(unikatowe_wartosci))\n",
    "\n",
    "    for indeks, unikatowa_wartosc in enumerate(unikatowe_wartosci):\n",
    "\n",
    "        for wartosc in wartosci:\n",
    "\n",
    "            if wartosc == unikatowa_wartosc:\n",
    "                p_tab[indeks] += 1\n",
    "\n",
    "    p_tab = p_tab / len(wartosci)\n",
    "    return p_tab\n"
   ]
  },
  {
   "cell_type": "code",
   "execution_count": 3,
   "metadata": {},
   "outputs": [],
   "source": [
    "def entropia(p_tab):\n",
    "    I = 0\n",
    "    for p in p_tab:\n",
    "        if p == 0:\n",
    "            continue\n",
    "        else:\n",
    "            I += -p*mat.log2(p)\n",
    "    return I"
   ]
  },
  {
   "attachments": {},
   "cell_type": "markdown",
   "metadata": {},
   "source": [
    "Klasa węzła"
   ]
  },
  {
   "cell_type": "code",
   "execution_count": 4,
   "metadata": {},
   "outputs": [],
   "source": [
    "class wezel:\n",
    "\n",
    "    def __init__(self):\n",
    "        self.value = None\n",
    "        self.next = None\n",
    "        self.childs = None"
   ]
  },
  {
   "attachments": {},
   "cell_type": "markdown",
   "metadata": {},
   "source": [
    "Importowanie danych"
   ]
  },
  {
   "cell_type": "code",
   "execution_count": 5,
   "metadata": {},
   "outputs": [],
   "source": [
    "data = pd.read_csv(\"sport.csv\")\n",
    "data.head()\n",
    "X = data.iloc[:, 0:-1]\n",
    "Y = data.iloc[:, -1]"
   ]
  },
  {
   "cell_type": "code",
   "execution_count": 11,
   "metadata": {},
   "outputs": [
    {
     "name": "stdout",
     "output_type": "stream",
     "text": [
      "[0.34042553 0.65957447]\n",
      "[0.24 0.76]\n",
      "[0.37037037 0.62962963]\n",
      "[0.81818182 0.18181818]\n",
      "[0.8 0.2]\n",
      "[0.69565217 0.30434783]\n",
      "[0.63636364 0.36363636]\n",
      "[0.34042553 0.42553191 0.23404255]\n",
      "[0.28 0.4  0.32]\n",
      "[0.2962963  0.25925926 0.44444444]\n",
      "[0.36363636 0.21212121 0.42424242]\n",
      "[0.32 0.44 0.24]\n",
      "[0.39130435 0.30434783 0.30434783]\n",
      "[0.45454545 0.         0.54545455]\n",
      "[0.31914894 0.4893617  0.19148936]\n",
      "[0.34 0.2  0.46]\n",
      "[0.40740741 0.25925926 0.33333333]\n",
      "[0.36363636 0.33333333 0.3030303 ]\n",
      "[0.12 0.4  0.48]\n",
      "[0.56521739 0.2173913  0.2173913 ]\n",
      "[0.09090909 0.54545455 0.36363636]\n",
      "[0.44680851 0.27659574 0.27659574]\n",
      "[0.3  0.28 0.42]\n",
      "[0.22222222 0.59259259 0.18518519]\n",
      "[0.18181818 0.45454545 0.36363636]\n",
      "[0.4  0.24 0.36]\n",
      "[0.47826087 0.17391304 0.34782609]\n",
      "[0.27272727 0.36363636 0.36363636]\n",
      "[0.14893617 0.36170213 0.23404255 0.25531915]\n",
      "[0.18 0.34 0.18 0.3 ]\n",
      "[0.33333333 0.33333333 0.33333333 0.        ]\n",
      "[0.18181818 0.18181818 0.42424242 0.21212121]\n",
      "[0.32 0.   0.2  0.48]\n",
      "[0.39130435 0.04347826 0.2173913  0.34782609]\n",
      "[0.54545455 0.36363636 0.09090909 0.        ]\n"
     ]
    },
    {
     "data": {
      "text/plain": [
       "[[], [], [], [], []]"
      ]
     },
     "execution_count": 11,
     "metadata": {},
     "output_type": "execute_result"
    }
   ],
   "source": [
    "p_tab = []; p_buf = []\n",
    "e_tab = []; e_buf = []\n",
    "\n",
    "for przeslanka in range(X.shape[1]):\n",
    "\n",
    "    for konkluzja in range(len(set(Y))):\n",
    "    \n",
    "        p_buf.append(prawdopodobienstwo(X.iloc[:, przeslanka].to_numpy(), Y, konkluzja))\n",
    "        e_buf.append(entropia(p_buf[-1]))\n",
    "    print(p_buf)\n",
    "    p_tab.append(p_buf)\n",
    "    e_tab.append(e_buf)\n",
    "    p_buf.clear()\n",
    "    e_buf.clear()"
   ]
  }
 ],
 "metadata": {
  "kernelspec": {
   "display_name": "Python 3",
   "language": "python",
   "name": "python3"
  },
  "language_info": {
   "codemirror_mode": {
    "name": "ipython",
    "version": 3
   },
   "file_extension": ".py",
   "mimetype": "text/x-python",
   "name": "python",
   "nbconvert_exporter": "python",
   "pygments_lexer": "ipython3",
   "version": "3.9.10"
  },
  "orig_nbformat": 4
 },
 "nbformat": 4,
 "nbformat_minor": 2
}
