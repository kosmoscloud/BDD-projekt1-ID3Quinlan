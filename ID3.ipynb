{
 "cells": [
  {
   "attachments": {},
   "cell_type": "markdown",
   "metadata": {},
   "source": [
    "### Elementy sztucznej inteligencji\n",
    "# Projekt: Binarne Drzewa Decyzyjne\n",
    "autorzy:\n",
    "1. Arkadiusz Florek\n",
    "2. Maciej Komosa\n",
    "3. Albert Pieniądz\n",
    "4. Jakub Zięba"
   ]
  },
  {
   "attachments": {},
   "cell_type": "markdown",
   "metadata": {},
   "source": [
    "Importowanie bibliotek"
   ]
  },
  {
   "cell_type": "code",
   "execution_count": 110,
   "metadata": {},
   "outputs": [],
   "source": [
    "import numpy as np, pandas as pd\n",
    "from math import log2"
   ]
  },
  {
   "attachments": {},
   "cell_type": "markdown",
   "metadata": {},
   "source": [
    "Obliczanie entropii"
   ]
  },
  {
   "cell_type": "code",
   "execution_count": 259,
   "metadata": {},
   "outputs": [],
   "source": [
    "def _entropia(dane):\n",
    "    '''\n",
    "    słownik:\n",
    "    klucz - konkluzja\n",
    "    wartość - liczba wystąpień konkluzji\n",
    "    '''\n",
    "    slownik = {}\n",
    "    for _ in dane:\n",
    "        atr = _[-1]\n",
    "        if atr not in slownik:\n",
    "            slownik[atr] = 0\n",
    "        slownik[atr] += 1\n",
    "\n",
    "    '''\n",
    "    entropia:\n",
    "    suma p * log2(p)\n",
    "    '''\n",
    "    entropia = 0.0\n",
    "    for _ in slownik.values():\n",
    "        p = _ / len(dane)\n",
    "        entropia -= p * log2(p)\n",
    "\n",
    "    return entropia"
   ]
  },
  {
   "attachments": {},
   "cell_type": "markdown",
   "metadata": {},
   "source": [
    "Obliczanie zysku informacji"
   ]
  },
  {
   "cell_type": "code",
   "execution_count": 271,
   "metadata": {},
   "outputs": [],
   "source": [
    "def _zysk_informacji(dane, przeslanka):\n",
    "        '''\n",
    "        slownik:\n",
    "        klucz - wartość przesłanki\n",
    "        wartość - lista wierszy spełniających przesłankę\n",
    "        '''\n",
    "        slownik = {}\n",
    "        for _ in dane:\n",
    "            wartosc = _[przeslanka]\n",
    "            if wartosc not in slownik:\n",
    "                slownik[wartosc] = []\n",
    "            slownik[wartosc].append(_)\n",
    "    \n",
    "        '''\n",
    "        obliczanie entropii przed i po podzieleniu\n",
    "        '''\n",
    "        ilosc_wierszy = len(dane)\n",
    "        entropie = []\n",
    "        for wartosci_przeslanki in slownik.values():\n",
    "            ilosc_wartosci_przeslanki = len(wartosci_przeslanki)\n",
    "            entropia_przeslanki = _entropia(wartosci_przeslanki)\n",
    "            entropie.append((ilosc_wartosci_przeslanki / ilosc_wierszy) * entropia_przeslanki)\n",
    "        entropia_przeslanki = sum(entropie)\n",
    "    \n",
    "        '''\n",
    "        zysk informacji\n",
    "        '''\n",
    "        zysk = _entropia(dane) - entropia_przeslanki\n",
    "    \n",
    "        return zysk"
   ]
  },
  {
   "attachments": {},
   "cell_type": "markdown",
   "metadata": {},
   "source": [
    "Obliczanie przeslanki o najwiekszym zysku"
   ]
  },
  {
   "cell_type": "code",
   "execution_count": 310,
   "metadata": {},
   "outputs": [],
   "source": [
    "def _przeslanka_o_najwiekszym_zysku(dane, nazwy_przeslanek, przeslanki_indeksy):\n",
    "\n",
    "        '''\n",
    "        oblicza dla wszystkich przesłanek zyski i wybiera tę najlepszą\n",
    "        '''\n",
    "\n",
    "        entropie_przeslanek = [_zysk_informacji(dane, przeslanka) for przeslanka in przeslanki_indeksy]\n",
    "        indeks_przeslanka_o_najwiekszym_zysku = przeslanki_indeksy[entropie_przeslanek.index(max(entropie_przeslanek))]\n",
    "\n",
    "        if max(entropie_przeslanek) == 0:\n",
    "            return None, None\n",
    "        \n",
    "        return nazwy_przeslanek[indeks_przeslanka_o_najwiekszym_zysku], indeks_przeslanka_o_najwiekszym_zysku"
   ]
  },
  {
   "attachments": {},
   "cell_type": "markdown",
   "metadata": {},
   "source": [
    "Algorytm id3"
   ]
  },
  {
   "cell_type": "code",
   "execution_count": 317,
   "metadata": {},
   "outputs": [],
   "source": [
    "def _id3(dane, atrybuty):\n",
    "        '''\n",
    "        inicjalizuje drzewo, czyli listę zbudowaną z kolejnych węzłów\n",
    "        i połączeń pomiędzy nimi\n",
    "        '''\n",
    "        drzewo = [] \n",
    "        '''\n",
    "        slownik:\n",
    "        klucz - konkluzja\n",
    "        wartość - liczba wierszy dla danej konkluzji\n",
    "        '''\n",
    "        (klucze, czestosci) = np.unique(dane[:, -1], return_counts=True)\n",
    "        slownik = dict(zip(klucze, czestosci))\n",
    "        '''\n",
    "        dla każdej konkluzji sprawdza, czy jest jedyną konkluzją w zbiorze.\n",
    "        jeśli tak, zwraca konkluzję jako węzeł liściowy\n",
    "        '''\n",
    "        for wartosc in slownik:\n",
    "            if slownik[wartosc] == len(dane):\n",
    "                drzewo.append(wartosc)\n",
    "                return drzewo\n",
    "        '''\n",
    "        jeśli nie ma atrybutów, zwraca konkluzję o największej liczbie wystąpień\n",
    "        '''\n",
    "        if len(atrybuty) == 0:\n",
    "                drzewo.append(max(slownik, key=slownik.get))\n",
    "                return drzewo\n",
    "        '''\n",
    "        oblicza przeslankę o największym zysku, dodaje ją do drzewa i usuwa z listy atrybutów\n",
    "        '''\n",
    "        przeslanka, indeks_przeslanka = _przeslanka_o_najwiekszym_zysku(dane, atrybuty, range(len(atrybuty)))\n",
    "        if przeslanka is None:\n",
    "                return None\n",
    "        drzewo.append(przeslanka)\n",
    "        atrybuty = np.delete(atrybuty, indeks_przeslanka)\n",
    "        for wartosc in np.unique(dane[:, indeks_przeslanka]):\n",
    "                podzbior = dane[dane[:, indeks_przeslanka] == wartosc]\n",
    "                podzbior = np.delete(podzbior, indeks_przeslanka, axis=1)\n",
    "                przeslanka, indeks_przeslanka = _przeslanka_o_najwiekszym_zysku(podzbior, atrybuty, range(len(atrybuty)))\n",
    "                if przeslanka is None:\n",
    "                        break\n",
    "                drzewo.append([wartosc, _id3(podzbior, atrybuty)])\n",
    "\n",
    "        return drzewo"
   ]
  },
  {
   "attachments": {},
   "cell_type": "markdown",
   "metadata": {},
   "source": [
    "Graf"
   ]
  },
  {
   "cell_type": "code",
   "execution_count": 319,
   "metadata": {},
   "outputs": [],
   "source": [
    "from graphviz import Digraph\n",
    "\n",
    "def _rysuj_drzewo(drzewo, graf=None, i=0, s = \"\"):\n",
    "        if graf is None:\n",
    "                graf = Digraph()\n",
    "        if i == 0:\n",
    "                graf.node(s + str(i), drzewo[0])\n",
    "        \n",
    "        #rozgalezienia\n",
    "        if isinstance(drzewo, str):\n",
    "                graf.node(s + str(i), drzewo)\n",
    "                graf.edge(s + str(i-1), s + str(i))\n",
    "                return graf\n",
    "        #galezie\n",
    "        for j in range(1, len(drzewo)):\n",
    "                \n",
    "                if drzewo[j][1] == None:\n",
    "                        break\n",
    "                graf.node(s + str(i) + str(j), drzewo[j][1][0])\n",
    "                if drzewo[j][0] == \"0\":\n",
    "                        decyzja = \"nie\"\n",
    "                else:\n",
    "                        decyzja = \"tak\"\n",
    "                graf.edge(s + str(i), s + str(i) + str(j), label=decyzja)\n",
    "                _rysuj_drzewo(drzewo[j][1], graf, j, s + str(i))\n",
    "                \n",
    "        return graf\n"
   ]
  },
  {
   "attachments": {},
   "cell_type": "markdown",
   "metadata": {},
   "source": [
    "Zadanie"
   ]
  },
  {
   "cell_type": "code",
   "execution_count": 320,
   "metadata": {},
   "outputs": [
    {
     "name": "stdout",
     "output_type": "stream",
     "text": [
      "['zamieszkanie: miasto', ['0', ['typ: tr. wytrzymałościowy', ['0', ['poziom: początkujący', ['0', ['towarzystwo: indywidualnie', ['0', ['czestotliwosc/tydz: <2', ['0', ['poziom: amator']], ['1', ['pocziom: zaawansowany']]]], ['1', ['czestotliwosc/tydz: >5', ['0', ['poziom: amator']], ['1', ['czestotliwosc/tydz: 3-5']]]]]]]], ['1', ['towarzystwo: w grupie', ['0', ['czestotliwosc/tydz: >5', ['0', ['pocziom: zaawansowany']], ['1', ['czestotliwosc/tydz: 3-5']]]], ['1', ['towarzystwo: w parze', ['0', ['pocziom: zaawansowany']], ['1', ['towarzystwo: indywidualnie']]]]]]]]]\n"
     ]
    },
    {
     "data": {
      "image/svg+xml": "<?xml version=\"1.0\" encoding=\"UTF-8\" standalone=\"no\"?>\n<!DOCTYPE svg PUBLIC \"-//W3C//DTD SVG 1.1//EN\"\n \"http://www.w3.org/Graphics/SVG/1.1/DTD/svg11.dtd\">\n<!-- Generated by graphviz version 7.1.0 (20230121.1956)\n -->\n<!-- Pages: 1 -->\n<svg width=\"1433pt\" height=\"479pt\"\n viewBox=\"0.00 0.00 1433.08 479.00\" xmlns=\"http://www.w3.org/2000/svg\" xmlns:xlink=\"http://www.w3.org/1999/xlink\">\n<g id=\"graph0\" class=\"graph\" transform=\"scale(1 1) rotate(0) translate(4 475)\">\n<polygon fill=\"white\" stroke=\"none\" points=\"-4,4 -4,-475 1429.08,-475 1429.08,4 -4,4\"/>\n<!-- 0 -->\n<g id=\"node1\" class=\"node\">\n<title>0</title>\n<ellipse fill=\"none\" stroke=\"black\" cx=\"657.59\" cy=\"-453\" rx=\"85.59\" ry=\"18\"/>\n<text text-anchor=\"middle\" x=\"657.59\" y=\"-449.3\" font-family=\"Times New Roman,serif\" font-size=\"14.00\">zamieszkanie: miasto</text>\n</g>\n<!-- 01 -->\n<g id=\"node2\" class=\"node\">\n<title>01</title>\n<ellipse fill=\"none\" stroke=\"black\" cx=\"657.59\" cy=\"-366\" rx=\"104.78\" ry=\"18\"/>\n<text text-anchor=\"middle\" x=\"657.59\" y=\"-362.3\" font-family=\"Times New Roman,serif\" font-size=\"14.00\">typ: tr. wytrzymałościowy</text>\n</g>\n<!-- 0&#45;&gt;01 -->\n<g id=\"edge1\" class=\"edge\">\n<title>0&#45;&gt;01</title>\n<path fill=\"none\" stroke=\"black\" d=\"M657.59,-434.8C657.59,-423.58 657.59,-408.67 657.59,-395.69\"/>\n<polygon fill=\"black\" stroke=\"black\" points=\"661.09,-395.98 657.59,-385.98 654.09,-395.98 661.09,-395.98\"/>\n<text text-anchor=\"middle\" x=\"665.59\" y=\"-405.8\" font-family=\"Times New Roman,serif\" font-size=\"14.00\">nie</text>\n</g>\n<!-- 011 -->\n<g id=\"node3\" class=\"node\">\n<title>011</title>\n<ellipse fill=\"none\" stroke=\"black\" cx=\"557.59\" cy=\"-279\" rx=\"90.18\" ry=\"18\"/>\n<text text-anchor=\"middle\" x=\"557.59\" y=\"-275.3\" font-family=\"Times New Roman,serif\" font-size=\"14.00\">poziom: początkujący</text>\n</g>\n<!-- 01&#45;&gt;011 -->\n<g id=\"edge2\" class=\"edge\">\n<title>01&#45;&gt;011</title>\n<path fill=\"none\" stroke=\"black\" d=\"M637.84,-348.21C623.05,-335.63 602.6,-318.25 586.04,-304.18\"/>\n<polygon fill=\"black\" stroke=\"black\" points=\"588.35,-301.55 578.46,-297.74 583.82,-306.88 588.35,-301.55\"/>\n<text text-anchor=\"middle\" x=\"621.59\" y=\"-318.8\" font-family=\"Times New Roman,serif\" font-size=\"14.00\">nie</text>\n</g>\n<!-- 012 -->\n<g id=\"node11\" class=\"node\">\n<title>012</title>\n<ellipse fill=\"none\" stroke=\"black\" cx=\"763.59\" cy=\"-279\" rx=\"92.88\" ry=\"18\"/>\n<text text-anchor=\"middle\" x=\"763.59\" y=\"-275.3\" font-family=\"Times New Roman,serif\" font-size=\"14.00\">towarzystwo: w grupie</text>\n</g>\n<!-- 01&#45;&gt;012 -->\n<g id=\"edge10\" class=\"edge\">\n<title>01&#45;&gt;012</title>\n<path fill=\"none\" stroke=\"black\" d=\"M678.79,-348C694.53,-335.38 716.22,-317.99 733.72,-303.96\"/>\n<polygon fill=\"black\" stroke=\"black\" points=\"735.64,-306.9 741.25,-297.91 731.26,-301.44 735.64,-306.9\"/>\n<text text-anchor=\"middle\" x=\"726.09\" y=\"-318.8\" font-family=\"Times New Roman,serif\" font-size=\"14.00\">tak</text>\n</g>\n<!-- 0111 -->\n<g id=\"node4\" class=\"node\">\n<title>0111</title>\n<ellipse fill=\"none\" stroke=\"black\" cx=\"448.59\" cy=\"-192\" rx=\"110.48\" ry=\"18\"/>\n<text text-anchor=\"middle\" x=\"448.59\" y=\"-188.3\" font-family=\"Times New Roman,serif\" font-size=\"14.00\">towarzystwo: indywidualnie</text>\n</g>\n<!-- 011&#45;&gt;0111 -->\n<g id=\"edge3\" class=\"edge\">\n<title>011&#45;&gt;0111</title>\n<path fill=\"none\" stroke=\"black\" d=\"M536.06,-261.21C519.89,-248.6 497.53,-231.16 479.46,-217.07\"/>\n<polygon fill=\"black\" stroke=\"black\" points=\"481.69,-214.37 471.65,-210.98 477.38,-219.89 481.69,-214.37\"/>\n<text text-anchor=\"middle\" x=\"518.59\" y=\"-231.8\" font-family=\"Times New Roman,serif\" font-size=\"14.00\">nie</text>\n</g>\n<!-- 01111 -->\n<g id=\"node5\" class=\"node\">\n<title>01111</title>\n<ellipse fill=\"none\" stroke=\"black\" cx=\"245.59\" cy=\"-105\" rx=\"92.08\" ry=\"18\"/>\n<text text-anchor=\"middle\" x=\"245.59\" y=\"-101.3\" font-family=\"Times New Roman,serif\" font-size=\"14.00\">czestotliwosc/tydz: &lt;2</text>\n</g>\n<!-- 0111&#45;&gt;01111 -->\n<g id=\"edge4\" class=\"edge\">\n<title>0111&#45;&gt;01111</title>\n<path fill=\"none\" stroke=\"black\" d=\"M409.93,-174.81C376.99,-161.02 329.49,-141.13 294.02,-126.28\"/>\n<polygon fill=\"black\" stroke=\"black\" points=\"295.4,-123.06 284.82,-122.42 292.69,-129.52 295.4,-123.06\"/>\n<text text-anchor=\"middle\" x=\"367.59\" y=\"-144.8\" font-family=\"Times New Roman,serif\" font-size=\"14.00\">nie</text>\n</g>\n<!-- 01112 -->\n<g id=\"node8\" class=\"node\">\n<title>01112</title>\n<ellipse fill=\"none\" stroke=\"black\" cx=\"448.59\" cy=\"-105\" rx=\"92.08\" ry=\"18\"/>\n<text text-anchor=\"middle\" x=\"448.59\" y=\"-101.3\" font-family=\"Times New Roman,serif\" font-size=\"14.00\">czestotliwosc/tydz: &gt;5</text>\n</g>\n<!-- 0111&#45;&gt;01112 -->\n<g id=\"edge7\" class=\"edge\">\n<title>0111&#45;&gt;01112</title>\n<path fill=\"none\" stroke=\"black\" d=\"M448.59,-173.8C448.59,-162.58 448.59,-147.67 448.59,-134.69\"/>\n<polygon fill=\"black\" stroke=\"black\" points=\"452.09,-134.98 448.59,-124.98 445.09,-134.98 452.09,-134.98\"/>\n<text text-anchor=\"middle\" x=\"457.09\" y=\"-144.8\" font-family=\"Times New Roman,serif\" font-size=\"14.00\">tak</text>\n</g>\n<!-- 011111 -->\n<g id=\"node6\" class=\"node\">\n<title>011111</title>\n<ellipse fill=\"none\" stroke=\"black\" cx=\"67.59\" cy=\"-18\" rx=\"67.69\" ry=\"18\"/>\n<text text-anchor=\"middle\" x=\"67.59\" y=\"-14.3\" font-family=\"Times New Roman,serif\" font-size=\"14.00\">poziom: amator</text>\n</g>\n<!-- 01111&#45;&gt;011111 -->\n<g id=\"edge5\" class=\"edge\">\n<title>01111&#45;&gt;011111</title>\n<path fill=\"none\" stroke=\"black\" d=\"M211.69,-87.81C182.69,-73.96 140.83,-53.97 109.69,-39.1\"/>\n<polygon fill=\"black\" stroke=\"black\" points=\"111.47,-36.07 100.94,-34.92 108.45,-42.39 111.47,-36.07\"/>\n<text text-anchor=\"middle\" x=\"175.59\" y=\"-57.8\" font-family=\"Times New Roman,serif\" font-size=\"14.00\">nie</text>\n</g>\n<!-- 011112 -->\n<g id=\"node7\" class=\"node\">\n<title>011112</title>\n<ellipse fill=\"none\" stroke=\"black\" cx=\"253.59\" cy=\"-18\" rx=\"100.98\" ry=\"18\"/>\n<text text-anchor=\"middle\" x=\"253.59\" y=\"-14.3\" font-family=\"Times New Roman,serif\" font-size=\"14.00\">pocziom: zaawansowany</text>\n</g>\n<!-- 01111&#45;&gt;011112 -->\n<g id=\"edge6\" class=\"edge\">\n<title>01111&#45;&gt;011112</title>\n<path fill=\"none\" stroke=\"black\" d=\"M247.21,-86.8C248.27,-75.58 249.67,-60.67 250.89,-47.69\"/>\n<polygon fill=\"black\" stroke=\"black\" points=\"254.36,-48.26 251.81,-37.97 247.39,-47.6 254.36,-48.26\"/>\n<text text-anchor=\"middle\" x=\"259.09\" y=\"-57.8\" font-family=\"Times New Roman,serif\" font-size=\"14.00\">tak</text>\n</g>\n<!-- 011121 -->\n<g id=\"node9\" class=\"node\">\n<title>011121</title>\n<ellipse fill=\"none\" stroke=\"black\" cx=\"443.59\" cy=\"-18\" rx=\"67.69\" ry=\"18\"/>\n<text text-anchor=\"middle\" x=\"443.59\" y=\"-14.3\" font-family=\"Times New Roman,serif\" font-size=\"14.00\">poziom: amator</text>\n</g>\n<!-- 01112&#45;&gt;011121 -->\n<g id=\"edge8\" class=\"edge\">\n<title>01112&#45;&gt;011121</title>\n<path fill=\"none\" stroke=\"black\" d=\"M447.58,-86.8C446.92,-75.58 446.05,-60.67 445.28,-47.69\"/>\n<polygon fill=\"black\" stroke=\"black\" points=\"448.79,-47.76 444.71,-37.98 441.8,-48.17 448.79,-47.76\"/>\n<text text-anchor=\"middle\" x=\"454.59\" y=\"-57.8\" font-family=\"Times New Roman,serif\" font-size=\"14.00\">nie</text>\n</g>\n<!-- 011122 -->\n<g id=\"node10\" class=\"node\">\n<title>011122</title>\n<ellipse fill=\"none\" stroke=\"black\" cx=\"623.59\" cy=\"-18\" rx=\"94.48\" ry=\"18\"/>\n<text text-anchor=\"middle\" x=\"623.59\" y=\"-14.3\" font-family=\"Times New Roman,serif\" font-size=\"14.00\">czestotliwosc/tydz: 3&#45;5</text>\n</g>\n<!-- 01112&#45;&gt;011122 -->\n<g id=\"edge9\" class=\"edge\">\n<title>01112&#45;&gt;011122</title>\n<path fill=\"none\" stroke=\"black\" d=\"M481.92,-87.81C509.69,-74.33 549.45,-55.01 579.79,-40.28\"/>\n<polygon fill=\"black\" stroke=\"black\" points=\"581.27,-43.45 588.73,-35.93 578.21,-37.15 581.27,-43.45\"/>\n<text text-anchor=\"middle\" x=\"555.09\" y=\"-57.8\" font-family=\"Times New Roman,serif\" font-size=\"14.00\">tak</text>\n</g>\n<!-- 0121 -->\n<g id=\"node12\" class=\"node\">\n<title>0121</title>\n<ellipse fill=\"none\" stroke=\"black\" cx=\"763.59\" cy=\"-192\" rx=\"92.08\" ry=\"18\"/>\n<text text-anchor=\"middle\" x=\"763.59\" y=\"-188.3\" font-family=\"Times New Roman,serif\" font-size=\"14.00\">czestotliwosc/tydz: &gt;5</text>\n</g>\n<!-- 012&#45;&gt;0121 -->\n<g id=\"edge11\" class=\"edge\">\n<title>012&#45;&gt;0121</title>\n<path fill=\"none\" stroke=\"black\" d=\"M763.59,-260.8C763.59,-249.58 763.59,-234.67 763.59,-221.69\"/>\n<polygon fill=\"black\" stroke=\"black\" points=\"767.09,-221.98 763.59,-211.98 760.09,-221.98 767.09,-221.98\"/>\n<text text-anchor=\"middle\" x=\"771.59\" y=\"-231.8\" font-family=\"Times New Roman,serif\" font-size=\"14.00\">nie</text>\n</g>\n<!-- 0122 -->\n<g id=\"node15\" class=\"node\">\n<title>0122</title>\n<ellipse fill=\"none\" stroke=\"black\" cx=\"1085.59\" cy=\"-192\" rx=\"89.88\" ry=\"18\"/>\n<text text-anchor=\"middle\" x=\"1085.59\" y=\"-188.3\" font-family=\"Times New Roman,serif\" font-size=\"14.00\">towarzystwo: w parze</text>\n</g>\n<!-- 012&#45;&gt;0122 -->\n<g id=\"edge14\" class=\"edge\">\n<title>012&#45;&gt;0122</title>\n<path fill=\"none\" stroke=\"black\" d=\"M817.13,-263.87C873.44,-249 962.04,-225.62 1021.91,-209.81\"/>\n<polygon fill=\"black\" stroke=\"black\" points=\"1022.5,-213.28 1031.27,-207.34 1020.71,-206.51 1022.5,-213.28\"/>\n<text text-anchor=\"middle\" x=\"953.09\" y=\"-231.8\" font-family=\"Times New Roman,serif\" font-size=\"14.00\">tak</text>\n</g>\n<!-- 01211 -->\n<g id=\"node13\" class=\"node\">\n<title>01211</title>\n<ellipse fill=\"none\" stroke=\"black\" cx=\"659.59\" cy=\"-105\" rx=\"100.98\" ry=\"18\"/>\n<text text-anchor=\"middle\" x=\"659.59\" y=\"-101.3\" font-family=\"Times New Roman,serif\" font-size=\"14.00\">pocziom: zaawansowany</text>\n</g>\n<!-- 0121&#45;&gt;01211 -->\n<g id=\"edge12\" class=\"edge\">\n<title>0121&#45;&gt;01211</title>\n<path fill=\"none\" stroke=\"black\" d=\"M743.05,-174.21C727.62,-161.6 706.28,-144.16 689.04,-130.07\"/>\n<polygon fill=\"black\" stroke=\"black\" points=\"691.58,-127.63 681.63,-124.01 687.15,-133.05 691.58,-127.63\"/>\n<text text-anchor=\"middle\" x=\"726.59\" y=\"-144.8\" font-family=\"Times New Roman,serif\" font-size=\"14.00\">nie</text>\n</g>\n<!-- 01212 -->\n<g id=\"node14\" class=\"node\">\n<title>01212</title>\n<ellipse fill=\"none\" stroke=\"black\" cx=\"872.59\" cy=\"-105\" rx=\"94.48\" ry=\"18\"/>\n<text text-anchor=\"middle\" x=\"872.59\" y=\"-101.3\" font-family=\"Times New Roman,serif\" font-size=\"14.00\">czestotliwosc/tydz: 3&#45;5</text>\n</g>\n<!-- 0121&#45;&gt;01212 -->\n<g id=\"edge13\" class=\"edge\">\n<title>0121&#45;&gt;01212</title>\n<path fill=\"none\" stroke=\"black\" d=\"M785.13,-174.21C801.4,-161.52 823.95,-143.93 842.08,-129.79\"/>\n<polygon fill=\"black\" stroke=\"black\" points=\"844.18,-132.6 849.91,-123.69 839.87,-127.08 844.18,-132.6\"/>\n<text text-anchor=\"middle\" x=\"834.09\" y=\"-144.8\" font-family=\"Times New Roman,serif\" font-size=\"14.00\">tak</text>\n</g>\n<!-- 01221 -->\n<g id=\"node16\" class=\"node\">\n<title>01221</title>\n<ellipse fill=\"none\" stroke=\"black\" cx=\"1085.59\" cy=\"-105\" rx=\"100.98\" ry=\"18\"/>\n<text text-anchor=\"middle\" x=\"1085.59\" y=\"-101.3\" font-family=\"Times New Roman,serif\" font-size=\"14.00\">pocziom: zaawansowany</text>\n</g>\n<!-- 0122&#45;&gt;01221 -->\n<g id=\"edge15\" class=\"edge\">\n<title>0122&#45;&gt;01221</title>\n<path fill=\"none\" stroke=\"black\" d=\"M1085.59,-173.8C1085.59,-162.58 1085.59,-147.67 1085.59,-134.69\"/>\n<polygon fill=\"black\" stroke=\"black\" points=\"1089.09,-134.98 1085.59,-124.98 1082.09,-134.98 1089.09,-134.98\"/>\n<text text-anchor=\"middle\" x=\"1093.59\" y=\"-144.8\" font-family=\"Times New Roman,serif\" font-size=\"14.00\">nie</text>\n</g>\n<!-- 01222 -->\n<g id=\"node17\" class=\"node\">\n<title>01222</title>\n<ellipse fill=\"none\" stroke=\"black\" cx=\"1314.59\" cy=\"-105\" rx=\"110.48\" ry=\"18\"/>\n<text text-anchor=\"middle\" x=\"1314.59\" y=\"-101.3\" font-family=\"Times New Roman,serif\" font-size=\"14.00\">towarzystwo: indywidualnie</text>\n</g>\n<!-- 0122&#45;&gt;01222 -->\n<g id=\"edge16\" class=\"edge\">\n<title>0122&#45;&gt;01222</title>\n<path fill=\"none\" stroke=\"black\" d=\"M1127.06,-175.61C1164.57,-161.69 1220.02,-141.1 1260.9,-125.93\"/>\n<polygon fill=\"black\" stroke=\"black\" points=\"1261.91,-129.29 1270.07,-122.53 1259.48,-122.73 1261.91,-129.29\"/>\n<text text-anchor=\"middle\" x=\"1223.09\" y=\"-144.8\" font-family=\"Times New Roman,serif\" font-size=\"14.00\">tak</text>\n</g>\n</g>\n</svg>\n",
      "text/plain": [
       "<graphviz.graphs.Digraph at 0x1e35248c910>"
      ]
     },
     "execution_count": 320,
     "metadata": {},
     "output_type": "execute_result"
    }
   ],
   "source": [
    "dane = pd.read_csv(\"sport_binarnie.csv\", header=None).to_numpy()\n",
    "drzewo = _id3(dane[1:, :], dane[0, :-1])\n",
    "print(drzewo)\n",
    "_rysuj_drzewo(drzewo)"
   ]
  },
  {
   "cell_type": "markdown",
   "metadata": {},
   "source": []
  }
 ],
 "metadata": {
  "kernelspec": {
   "display_name": "Python 3",
   "language": "python",
   "name": "python3"
  },
  "language_info": {
   "codemirror_mode": {
    "name": "ipython",
    "version": 3
   },
   "file_extension": ".py",
   "mimetype": "text/x-python",
   "name": "python",
   "nbconvert_exporter": "python",
   "pygments_lexer": "ipython3",
   "version": "3.9.10"
  },
  "orig_nbformat": 4
 },
 "nbformat": 4,
 "nbformat_minor": 2
}
