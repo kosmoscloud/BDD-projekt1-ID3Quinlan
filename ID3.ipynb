{
 "cells": [
  {
   "attachments": {},
   "cell_type": "markdown",
   "metadata": {},
   "source": [
    "### Elementy sztucznej inteligencji\n",
    "# Projekt: Binarne Drzewa Decyzyjne\n",
    "autorzy:\n",
    "1. Arkadiusz Florek\n",
    "2. Maciej Komosa\n",
    "3. Albert Pieniądz\n",
    "4. Jakub Zięba"
   ]
  },
  {
   "attachments": {},
   "cell_type": "markdown",
   "metadata": {},
   "source": [
    "## TODO: Id3, opis jak działa wezel\n",
    "### błędy:\n",
    "1. dane nie są formatowane jak dane w przykładzie w linku (na dole)\n",
    "2. prawdopodobniej ostatecznie trzeba będzie usunąć klasę, bo trzeba było to zrobic w skrypcie, ale w klasie lepiej widać co jest grane\n",
    "### możliwe rozwiązania: zastosować formatowanie z maila od prof'a albo jakieś prostsze"
   ]
  },
  {
   "cell_type": "code",
   "execution_count": 1,
   "metadata": {},
   "outputs": [],
   "source": [
    "import numpy as np, pandas as pd"
   ]
  },
  {
   "attachments": {},
   "cell_type": "markdown",
   "metadata": {},
   "source": [
    "Funkcje do obliczania entropii dla danej konkluzji"
   ]
  },
  {
   "cell_type": "code",
   "execution_count": 4,
   "metadata": {},
   "outputs": [],
   "source": [
    "from math import log2\n",
    "\n",
    "class Wezel:\n",
    "\n",
    "    def __init__(self):\n",
    "        self.wartosc = None\n",
    "        self.kolejny = None\n",
    "        self.dzieci = None\n",
    "\n",
    "class DrzewoBinarneID3:\n",
    "\n",
    "    def __init__(self, dane):\n",
    "        #self.dane to nie są dane, w obrębie klasy korzystamy tylko z self.danych\n",
    "        self.dane = dane[1:, :]\n",
    "        #nagłówki\n",
    "        self.nazwy_przeslanek = dane[0, :]\n",
    "        #self.explanatory hehe\n",
    "        self.klasy_konkluzji = np.unique(self.dane[:, -1])\n",
    "        #jestem prawie pewny że połowa z tych rzeczy jest niepotrzebna\n",
    "        self.ilosc_wierszy_dla_danej_klasy_konkluzji = [list(self.dane[:, -1]).count(x) for x in self.klasy_konkluzji]\n",
    "        #entropia całego układu, czyli właściwie to klas\n",
    "        self.entropia = self._entropia(self.dane[:, -1])\n",
    "        #teoretycznie w tym węźle ma się mieścić całe drzewo, na zasadzie zagnieżdżonych referencji\n",
    "        #byłoby jeszcze zabawniej jakbym rozumiał jak to zrobić \n",
    "        self.wezel = self._id3(self.dane, None)\n",
    " \n",
    "    def _entropia(self, dane):\n",
    "        # Tworzymy słownik, w którym kluczem jest wartość, a wartością liczba wystąpień tej wartości\n",
    "        wystapienia_wartosci = {}\n",
    "        for wiersz in dane:\n",
    "            atrybut = wiersz[-1]\n",
    "            if atrybut not in wystapienia_wartosci:\n",
    "                wystapienia_wartosci[atrybut] = 0\n",
    "            wystapienia_wartosci[atrybut] += 1\n",
    "    \n",
    "        # Obliczamy entropię dla danej tabeli\n",
    "        entropia = 0.0\n",
    "        ilosc_wierszy = len(dane)\n",
    "        for wartosc in wystapienia_wartosci.values():\n",
    "            prawdopodobienstwo = wartosc / ilosc_wierszy\n",
    "            entropia -= prawdopodobienstwo * log2(prawdopodobienstwo)\n",
    "    \n",
    "        return entropia\n",
    " \n",
    "    def _zysk_informacji(self, dane, przeslanka):\n",
    "        # Tworzymy słownik, w którym kluczem jest wartość, a wartością lista wierszy z tą wartością\n",
    "        wartosci_przeslanek = {}\n",
    "        for wiersz in dane:\n",
    "            wartosc = wiersz[przeslanka]\n",
    "            if wartosc not in wartosci_przeslanek:\n",
    "                wartosci_przeslanek[wartosc] = []\n",
    "            wartosci_przeslanek[wartosc].append(wiersz)\n",
    "    \n",
    "        # Obliczamy entropię dla każdego podziału i sumujemy, aby uzyskać entropię po podziale\n",
    "        ilosc_wierszy = len(dane)\n",
    "        entropie = []\n",
    "        for wartosci_przeslanki in wartosci_przeslanek.values():\n",
    "            ilosc_wartosci_przeslanki = len(wartosci_przeslanki)\n",
    "            entropia_przeslanki = self._entropia(wartosci_przeslanki)\n",
    "            entropie.append((ilosc_wartosci_przeslanki / ilosc_wierszy) * entropia_przeslanki)\n",
    "        entropia_przeslanki = sum(entropie)\n",
    "    \n",
    "        # Obliczamy przyrost informacji\n",
    "        zysk = self._entropia(dane) - entropia_przeslanki\n",
    "    \n",
    "        return zysk\n",
    "\n",
    "    def _przeslanka_o_najwiekszym_zysku(self, dane):\n",
    "        \n",
    "        # tabela przeslanek, czyli tabela o wartosciach\n",
    "        # z zakresu dlugosci jednego wiersza odjąć konkluzję\n",
    "        przeslanki = [*range(dane[0].size - 1)]\n",
    "\n",
    "        entropie_przeslanek = [self._zysk_informacji(dane, przeslanka) for przeslanka in przeslanki]\n",
    "        przeslanka_o_najwiekszym_zysku = przeslanki[entropie_przeslanek.index(max(entropie_przeslanek))]\n",
    "\n",
    "        return przeslanka_o_najwiekszym_zysku\n",
    "    \n",
    "    #szczerze to nie wiem jak ten sposób dzielenia na węzły zrobić, ale ma być w tej funkcji i bazować na funkcji _przeslanka_o_najwiekszym_zysku\n",
    "    #link: https://towardsdatascience.com/id3-decision-tree-classifier-from-scratch-in-python-b38ef145fd90\n",
    "    def _id3(self, dane, wezel):\n",
    "        \n",
    "        if not wezel:\n",
    "            wezel = Wezel()\n",
    "        \n",
    "        if len(dane) == 0:\n",
    "            wezel.wartosc = max()\n",
    "        \n",
    "        "
   ]
  },
  {
   "attachments": {},
   "cell_type": "markdown",
   "metadata": {},
   "source": [
    "Klasa węzła"
   ]
  },
  {
   "cell_type": "code",
   "execution_count": 7,
   "metadata": {},
   "outputs": [
    {
     "name": "stdout",
     "output_type": "stream",
     "text": [
      "2.67943596719348\n",
      "None\n"
     ]
    }
   ],
   "source": [
    "#pobieranie danych z nagłówkami i przesyłanie ich do funkcji - dane i nagłówki oddzielnie - trochę śmie\n",
    "dane = pd.read_csv(\"sport.csv\", header=None).to_numpy()\n",
    "bdd = DrzewoBinarneID3(dane)\n",
    "print(bdd.entropia)\n",
    "print(bdd.wezel)"
   ]
  }
 ],
 "metadata": {
  "kernelspec": {
   "display_name": "Python 3",
   "language": "python",
   "name": "python3"
  },
  "language_info": {
   "codemirror_mode": {
    "name": "ipython",
    "version": 3
   },
   "file_extension": ".py",
   "mimetype": "text/x-python",
   "name": "python",
   "nbconvert_exporter": "python",
   "pygments_lexer": "ipython3",
   "version": "3.9.10"
  },
  "orig_nbformat": 4
 },
 "nbformat": 4,
 "nbformat_minor": 2
}
