{
 "cells": [
  {
   "attachments": {},
   "cell_type": "markdown",
   "metadata": {},
   "source": [
    "### Elementy sztucznej inteligencji\n",
    "# Projekt: Binarne Drzewa Decyzyjne\n",
    "autorzy:\n",
    "1. Arkadiusz Florek\n",
    "2. Maciej Komosa\n",
    "3. Albert Pieniądz\n",
    "4. Jakub Zięba"
   ]
  },
  {
   "cell_type": "code",
   "execution_count": 2,
   "metadata": {},
   "outputs": [],
   "source": [
    "import numpy as np, pandas as pd, math as mat"
   ]
  },
  {
   "attachments": {},
   "cell_type": "markdown",
   "metadata": {},
   "source": [
    "Funkcje do obliczania entropii dla danej konkluzji"
   ]
  },
  {
   "cell_type": "code",
   "execution_count": 3,
   "metadata": {},
   "outputs": [],
   "source": [
    "def prawdopodobienstwo(wartosci):\n",
    "\n",
    "    unikatowe_wartosci = set(wartosci)\n",
    "\n",
    "    # tabela zawierająca częstości wystąpienia poszczególnych wartości przesłanek\n",
    "    p_tab = np.zeros(len(unikatowe_wartosci))\n",
    "    \n",
    "    for indeks, unikatowa_wartosc in enumerate(unikatowe_wartosci):\n",
    "\n",
    "        for wartosc in wartosci:\n",
    "\n",
    "            if wartosc == unikatowa_wartosc:\n",
    "                p_tab[indeks] += 1\n",
    "\n",
    "    p_tab = p_tab / len(wartosci)\n",
    "    return p_tab\n"
   ]
  },
  {
   "cell_type": "code",
   "execution_count": 4,
   "metadata": {},
   "outputs": [],
   "source": [
    "def entropia(p_tab):\n",
    "    I = 0\n",
    "    for p in p_tab:\n",
    "        if p == 0:\n",
    "            continue\n",
    "        else:\n",
    "            I += -p*mat.log2(p)\n",
    "    return I"
   ]
  },
  {
   "attachments": {},
   "cell_type": "markdown",
   "metadata": {},
   "source": [
    "Klasa węzła"
   ]
  },
  {
   "cell_type": "code",
   "execution_count": 5,
   "metadata": {},
   "outputs": [],
   "source": [
    "class wezel:\n",
    "\n",
    "    def __init__(self):\n",
    "        self.value = None\n",
    "        self.next = None\n",
    "        self.childs = None"
   ]
  },
  {
   "attachments": {},
   "cell_type": "markdown",
   "metadata": {},
   "source": [
    "Importowanie danych"
   ]
  },
  {
   "cell_type": "code",
   "execution_count": 6,
   "metadata": {},
   "outputs": [],
   "source": [
    "data = pd.read_csv(\"sport.csv\")\n",
    "data.head()\n",
    "X = data.iloc[:, 0:-1].values.transpose()\n",
    "Y = data.iloc[:, -1].values.transpose()"
   ]
  },
  {
   "cell_type": "code",
   "execution_count": 7,
   "metadata": {},
   "outputs": [],
   "source": [
    "p_tab = []; p_buf = []\n",
    "e_tab = []; e_buf = []\n",
    "\n",
    "for przeslanka in range(len(X)):\n",
    "\n",
    "    for konkluzja in range(len(set(Y))):\n",
    "\n",
    "        wartosci = X[przeslanka]\n",
    "        \n",
    "        konkluzja += 1\n",
    "\n",
    "        wartosci = wartosci[Y == konkluzja]\n",
    "    \n",
    "        p_buf.append(prawdopodobienstwo(wartosci))\n",
    "        e_buf.append(entropia(p_buf[-1]))\n",
    "\n",
    "    p_tab.append(p_buf)\n",
    "    e_tab.append(e_buf)\n",
    "    p_buf = []\n",
    "    e_buf = []"
   ]
  },
  {
   "cell_type": "code",
   "execution_count": 8,
   "metadata": {},
   "outputs": [
    {
     "data": {
      "text/plain": [
       "2.67943596719348"
      ]
     },
     "execution_count": 8,
     "metadata": {},
     "output_type": "execute_result"
    }
   ],
   "source": [
    "# entropia inicjalna\n",
    "entropia(prawdopodobienstwo(Y))"
   ]
  },
  {
   "cell_type": "code",
   "execution_count": 9,
   "metadata": {},
   "outputs": [
    {
     "data": {
      "text/plain": [
       "[[array([0.34042553, 0.65957447]),\n",
       "  array([0.24, 0.76]),\n",
       "  array([0.37037037, 0.62962963]),\n",
       "  array([0.81818182, 0.18181818]),\n",
       "  array([0.8, 0.2]),\n",
       "  array([0.69565217, 0.30434783]),\n",
       "  array([0.63636364, 0.36363636])],\n",
       " [array([0.42553191, 0.23404255, 0.34042553]),\n",
       "  array([0.4 , 0.32, 0.28]),\n",
       "  array([0.25925926, 0.44444444, 0.2962963 ]),\n",
       "  array([0.21212121, 0.42424242, 0.36363636]),\n",
       "  array([0.44, 0.24, 0.32]),\n",
       "  array([0.30434783, 0.30434783, 0.39130435]),\n",
       "  array([0.54545455, 0.45454545])],\n",
       " [array([0.4893617 , 0.19148936, 0.31914894]),\n",
       "  array([0.2 , 0.46, 0.34]),\n",
       "  array([0.33333333, 0.40740741, 0.25925926]),\n",
       "  array([0.36363636, 0.3030303 , 0.33333333]),\n",
       "  array([0.4 , 0.48, 0.12]),\n",
       "  array([0.56521739, 0.2173913 , 0.2173913 ]),\n",
       "  array([0.09090909, 0.36363636, 0.54545455])],\n",
       " [array([0.27659574, 0.27659574, 0.44680851]),\n",
       "  array([0.28, 0.42, 0.3 ]),\n",
       "  array([0.59259259, 0.18518519, 0.22222222]),\n",
       "  array([0.45454545, 0.36363636, 0.18181818]),\n",
       "  array([0.24, 0.36, 0.4 ]),\n",
       "  array([0.17391304, 0.34782609, 0.47826087]),\n",
       "  array([0.36363636, 0.36363636, 0.27272727])],\n",
       " [array([0.14893617, 0.25531915, 0.36170213, 0.23404255]),\n",
       "  array([0.18, 0.3 , 0.34, 0.18]),\n",
       "  array([0.33333333, 0.33333333, 0.33333333]),\n",
       "  array([0.18181818, 0.21212121, 0.18181818, 0.42424242]),\n",
       "  array([0.32, 0.48, 0.2 ]),\n",
       "  array([0.39130435, 0.34782609, 0.04347826, 0.2173913 ]),\n",
       "  array([0.54545455, 0.36363636, 0.09090909])]]"
      ]
     },
     "execution_count": 9,
     "metadata": {},
     "output_type": "execute_result"
    }
   ],
   "source": [
    "p_tab"
   ]
  },
  {
   "cell_type": "code",
   "execution_count": 13,
   "metadata": {},
   "outputs": [
    {
     "ename": "ValueError",
     "evalue": "operands could not be broadcast together with shapes (7,) (2,) ",
     "output_type": "error",
     "traceback": [
      "\u001b[1;31m---------------------------------------------------------------------------\u001b[0m",
      "\u001b[1;31mValueError\u001b[0m                                Traceback (most recent call last)",
      "Cell \u001b[1;32mIn[13], line 7\u001b[0m\n\u001b[0;32m      5\u001b[0m \u001b[39mfor\u001b[39;00m indeks \u001b[39min\u001b[39;00m \u001b[39mrange\u001b[39m (\u001b[39mlen\u001b[39m(przeslanka)):\n\u001b[0;32m      6\u001b[0m     \u001b[39mfor\u001b[39;00m e \u001b[39min\u001b[39;00m e_tab:\n\u001b[1;32m----> 7\u001b[0m         I_buf \u001b[39m+\u001b[39m\u001b[39m=\u001b[39m e \u001b[39m*\u001b[39;49m przeslanka[indeks]\n\u001b[0;32m      8\u001b[0m     \u001b[39mprint\u001b[39m(I_buf)\n\u001b[0;32m      9\u001b[0m     I_buf \u001b[39m=\u001b[39m \u001b[39m0\u001b[39m\n",
      "\u001b[1;31mValueError\u001b[0m: operands could not be broadcast together with shapes (7,) (2,) "
     ]
    }
   ],
   "source": [
    "I_tab = []\n",
    "I_buf = 0\n",
    "\n",
    "for przeslanka in p_tab:\n",
    "    for indeks in range (len(przeslanka)):\n",
    "        for e_indeks in range(len(e_tab)):\n",
    "            I_buf += e_tab[e_indeks] * przeslanka[indeks]\n",
    "        print(I_buf)\n",
    "        I_buf = 0\n",
    "I_tab"
   ]
  },
  {
   "cell_type": "code",
   "execution_count": 11,
   "metadata": {},
   "outputs": [
    {
     "data": {
      "text/plain": [
       "[[array([0.34042553, 0.65957447]),\n",
       "  array([0.24, 0.76]),\n",
       "  array([0.37037037, 0.62962963]),\n",
       "  array([0.81818182, 0.18181818]),\n",
       "  array([0.8, 0.2]),\n",
       "  array([0.69565217, 0.30434783]),\n",
       "  array([0.63636364, 0.36363636])],\n",
       " [array([0.42553191, 0.23404255, 0.34042553]),\n",
       "  array([0.4 , 0.32, 0.28]),\n",
       "  array([0.25925926, 0.44444444, 0.2962963 ]),\n",
       "  array([0.21212121, 0.42424242, 0.36363636]),\n",
       "  array([0.44, 0.24, 0.32]),\n",
       "  array([0.30434783, 0.30434783, 0.39130435]),\n",
       "  array([0.54545455, 0.45454545])],\n",
       " [array([0.4893617 , 0.19148936, 0.31914894]),\n",
       "  array([0.2 , 0.46, 0.34]),\n",
       "  array([0.33333333, 0.40740741, 0.25925926]),\n",
       "  array([0.36363636, 0.3030303 , 0.33333333]),\n",
       "  array([0.4 , 0.48, 0.12]),\n",
       "  array([0.56521739, 0.2173913 , 0.2173913 ]),\n",
       "  array([0.09090909, 0.36363636, 0.54545455])],\n",
       " [array([0.27659574, 0.27659574, 0.44680851]),\n",
       "  array([0.28, 0.42, 0.3 ]),\n",
       "  array([0.59259259, 0.18518519, 0.22222222]),\n",
       "  array([0.45454545, 0.36363636, 0.18181818]),\n",
       "  array([0.24, 0.36, 0.4 ]),\n",
       "  array([0.17391304, 0.34782609, 0.47826087]),\n",
       "  array([0.36363636, 0.36363636, 0.27272727])],\n",
       " [array([0.14893617, 0.25531915, 0.36170213, 0.23404255]),\n",
       "  array([0.18, 0.3 , 0.34, 0.18]),\n",
       "  array([0.33333333, 0.33333333, 0.33333333]),\n",
       "  array([0.18181818, 0.21212121, 0.18181818, 0.42424242]),\n",
       "  array([0.32, 0.48, 0.2 ]),\n",
       "  array([0.39130435, 0.34782609, 0.04347826, 0.2173913 ]),\n",
       "  array([0.54545455, 0.36363636, 0.09090909])]]"
      ]
     },
     "execution_count": 11,
     "metadata": {},
     "output_type": "execute_result"
    }
   ],
   "source": [
    "p_tab"
   ]
  }
 ],
 "metadata": {
  "kernelspec": {
   "display_name": "Python 3",
   "language": "python",
   "name": "python3"
  },
  "language_info": {
   "codemirror_mode": {
    "name": "ipython",
    "version": 3
   },
   "file_extension": ".py",
   "mimetype": "text/x-python",
   "name": "python",
   "nbconvert_exporter": "python",
   "pygments_lexer": "ipython3",
   "version": "3.9.10"
  },
  "orig_nbformat": 4
 },
 "nbformat": 4,
 "nbformat_minor": 2
}
