{
 "cells": [
  {
   "attachments": {},
   "cell_type": "markdown",
   "metadata": {},
   "source": [
    "### Elementy sztucznej inteligencji\n",
    "# Projekt: Binarne Drzewa Decyzyjne\n",
    "autorzy:\n",
    "1. Arkadiusz Florek\n",
    "2. Maciej Komosa\n",
    "3. Albert Pieniądz\n",
    "4. Jakub Zięba"
   ]
  },
  {
   "attachments": {},
   "cell_type": "markdown",
   "metadata": {},
   "source": [
    "Importowanie bibliotek, funkcji i obiektów"
   ]
  },
  {
   "cell_type": "code",
   "execution_count": 32,
   "metadata": {},
   "outputs": [],
   "source": [
    "import numpy as np, pandas as pd\n",
    "from math import log2\n",
    "from graphviz import Digraph"
   ]
  },
  {
   "attachments": {},
   "cell_type": "markdown",
   "metadata": {},
   "source": [
    "Obliczanie entropii na podstawie ilości wystąpienia konkluzji w danych"
   ]
  },
  {
   "cell_type": "code",
   "execution_count": 33,
   "metadata": {},
   "outputs": [],
   "source": [
    "def _entropia(dane):\n",
    "    '''\n",
    "    słownik:\n",
    "    klucz - konkluzja\n",
    "    wartość - liczba wystąpień konkluzji\n",
    "    '''\n",
    "    slownik = {}\n",
    "    for _ in dane:\n",
    "        atr = _[-1]\n",
    "        if atr not in slownik:\n",
    "            slownik[atr] = 0\n",
    "        slownik[atr] += 1\n",
    "\n",
    "    '''\n",
    "    entropia:\n",
    "    suma p * log2(p)\n",
    "    '''\n",
    "    entropia = 0.0\n",
    "    for _ in slownik.values():\n",
    "        p = _ / len(dane)\n",
    "        entropia -= p * log2(p)\n",
    "\n",
    "    return entropia"
   ]
  },
  {
   "attachments": {},
   "cell_type": "markdown",
   "metadata": {},
   "source": [
    "Obliczanie zysku informacji na podstawie informacji zawartej w danych oraz entropii dla danej przesłanki"
   ]
  },
  {
   "cell_type": "code",
   "execution_count": 34,
   "metadata": {},
   "outputs": [],
   "source": [
    "def _zysk_informacji(dane, przeslanka):\n",
    "        '''\n",
    "        slownik:\n",
    "        klucz - wartość przesłanki\n",
    "        wartość - lista wierszy spełniających przesłankę\n",
    "        '''\n",
    "        slownik = {}\n",
    "        for _ in dane:\n",
    "            wartosc = _[przeslanka]\n",
    "            if wartosc not in slownik:\n",
    "                slownik[wartosc] = []\n",
    "            slownik[wartosc].append(_)\n",
    "    \n",
    "        '''\n",
    "        obliczanie entropii przed i po podzieleniu\n",
    "        '''\n",
    "        iloscWierszy = len(dane)\n",
    "        entropie = []\n",
    "        for wartosciPrzeslanki in slownik.values():\n",
    "            iloscWartosciPrzeslanki = len(wartosciPrzeslanki)\n",
    "            entropiaPrzeslanki = _entropia(wartosciPrzeslanki)\n",
    "            entropie.append((iloscWartosciPrzeslanki / iloscWierszy) * entropiaPrzeslanki)\n",
    "        entropiaPrzeslanki = sum(entropie)\n",
    "    \n",
    "        '''\n",
    "        zysk informacji\n",
    "        '''\n",
    "        zysk = _entropia(dane) - entropiaPrzeslanki\n",
    "    \n",
    "        return zysk"
   ]
  },
  {
   "attachments": {},
   "cell_type": "markdown",
   "metadata": {},
   "source": [
    "Obliczanie przesłanki o największym zysku"
   ]
  },
  {
   "cell_type": "code",
   "execution_count": 35,
   "metadata": {},
   "outputs": [],
   "source": [
    "def _przeslanka_o_najwiekszym_zysku(dane, nazwyPrzeslanek, przeslankiIndeksy):\n",
    "\n",
    "        '''\n",
    "        oblicza dla wszystkich przesłanek zyski i wybiera tę najlepszą\n",
    "        '''\n",
    "        \n",
    "        entropiePrzeslanek = [_zysk_informacji(dane, przeslanka) for przeslanka in przeslankiIndeksy]\n",
    "        indeksPrzeslankaONajwiekszymZysku = przeslankiIndeksy[entropiePrzeslanek.index(max(entropiePrzeslanek))]\n",
    "\n",
    "        if max(entropiePrzeslanek) == 0:\n",
    "                return None, None\n",
    "        \n",
    "        return nazwyPrzeslanek[indeksPrzeslankaONajwiekszymZysku], indeksPrzeslankaONajwiekszymZysku"
   ]
  },
  {
   "attachments": {},
   "cell_type": "markdown",
   "metadata": {},
   "source": [
    "Algorytm id3 - budowa binarnego drzewa decyzyjnego"
   ]
  },
  {
   "cell_type": "code",
   "execution_count": 36,
   "metadata": {},
   "outputs": [],
   "source": [
    "def _id3(dane, atrybuty):\n",
    "        '''\n",
    "        inicjalizuje drzewo, czyli listę zbudowaną z kolejnych węzłów\n",
    "        i połączeń pomiędzy nimi\n",
    "        '''\n",
    "        drzewo = [] \n",
    "        '''\n",
    "        slownik:\n",
    "        klucz - konkluzja\n",
    "        wartość - liczba wierszy dla danej konkluzji\n",
    "        '''\n",
    "        (klucze, czestosci) = np.unique(dane[:, -1], return_counts=True)\n",
    "        slownik = dict(zip(klucze, czestosci))\n",
    "        '''\n",
    "        dla każdej konkluzji sprawdza, czy jest jedyną konkluzją w zbiorze.\n",
    "        jeśli tak, zwraca konkluzję jako węzeł liściowy\n",
    "        '''\n",
    "        for wartosc in slownik:\n",
    "            if slownik[wartosc] == len(dane):\n",
    "                return wartosc\n",
    "        '''\n",
    "        jeśli nie ma atrybutów, zwraca konkluzję o największej liczbie wystąpień\n",
    "        '''\n",
    "        if len(atrybuty) == 1:\n",
    "               return max(slownik, key=slownik.get)\n",
    "        '''\n",
    "        oblicza przeslankę o największym zysku, dodaje ją do drzewa i usuwa z listy atrybutów\n",
    "        '''\n",
    "        przeslanka, indeksPrzeslanka = _przeslanka_o_najwiekszym_zysku(dane, atrybuty, range(len(atrybuty)))\n",
    "        if przeslanka is None:\n",
    "                return max(slownik, key=slownik.get)\n",
    "        drzewo.append(przeslanka)\n",
    "        atrybuty = np.delete(atrybuty, indeksPrzeslanka)\n",
    "\n",
    "        '''\n",
    "        dla każdej wartości przesłanki tworzy poddrzewo, a następnie\n",
    "        dodaje je do drzewa\n",
    "        '''\n",
    "        wartosciPrzeslanki = np.unique(dane[:, indeksPrzeslanka])\n",
    "        \n",
    "        poddrzewa = []\n",
    "\n",
    "        for wartosc in wartosciPrzeslanki:\n",
    "                przeslanka, indeksPrzeslanka = _przeslanka_o_najwiekszym_zysku(dane, atrybuty, range(len(atrybuty)))\n",
    "                poddrzewo = [wartosc, _id3(dane[dane[:, indeksPrzeslanka] == wartosc], atrybuty)]\n",
    "                poddrzewa.append(poddrzewo)\n",
    "                drzewo.append(poddrzewo)\n",
    "\n",
    "        if poddrzewa[0][1] == poddrzewa[1][1]:\n",
    "                drzewo = poddrzewa[0][1]\n",
    "\n",
    "        return drzewo"
   ]
  },
  {
   "attachments": {},
   "cell_type": "markdown",
   "metadata": {},
   "source": [
    "Reprezentacja binarnego drzewa decyzyjnego za pomocą pakietu Graphviz"
   ]
  },
  {
   "cell_type": "code",
   "execution_count": 37,
   "metadata": {},
   "outputs": [],
   "source": [
    "def _rysuj_drzewo(drzewo, graf=None, i=0, s = \"\"):\n",
    "\n",
    "        if i == 0:\n",
    "                graf = Digraph(comment='Drzewo decyzyjne')\n",
    "                graf.node(s + str(i), drzewo[0])\n",
    "\n",
    "        #galezie\n",
    "        for j in range(1, len(drzewo)):\n",
    "\n",
    "                decyzja = drzewo[j][0] == \"0\" and \"nie\" or \"tak\"\n",
    "                graf.edge(s + str(i), s + str(i) + str(j), label=decyzja)\n",
    "\n",
    "                if isinstance(drzewo[j][1], str):\n",
    "                        graf.node(s + str(i) + str(j), drzewo[j][1])                        \n",
    "                else:\n",
    "                        graf.node(s + str(i) + str(j), drzewo[j][1][0])\n",
    "                        _rysuj_drzewo(drzewo[j][1], graf, j, s + str(i))\n",
    "                \n",
    "        return graf\n"
   ]
  },
  {
   "attachments": {},
   "cell_type": "markdown",
   "metadata": {},
   "source": [
    "Prezentacja drzewa zbudowanego za pomocą tabeli przygotowanej ręcznie"
   ]
  },
  {
   "cell_type": "code",
   "execution_count": 38,
   "metadata": {},
   "outputs": [
    {
     "data": {
      "text/plain": [
       "'drzewo.pdf'"
      ]
     },
     "execution_count": 38,
     "metadata": {},
     "output_type": "execute_result"
    }
   ],
   "source": [
    "dane = pd.read_csv(\"sport_binarnie.csv\", header=None).to_numpy()\n",
    "_rysuj_drzewo(_id3(dane[1:, :], dane[0, :-1])).render('drzewo', view=True)"
   ]
  },
  {
   "attachments": {},
   "cell_type": "markdown",
   "metadata": {},
   "source": [
    "### suplement - drzewo niebinarne (bez przycinania)\n",
    "modyfikacje funkcji"
   ]
  },
  {
   "cell_type": "code",
   "execution_count": 39,
   "metadata": {},
   "outputs": [],
   "source": [
    "def _przeslanka_o_najwiekszym_zysku_2(dane, nazwy_przeslanek, przeslanki_indeksy):\n",
    "\n",
    "        entropie_przeslanek = [_zysk_informacji(dane, przeslanka) for przeslanka in przeslanki_indeksy]\n",
    "        indeks_przeslanka_o_najwiekszym_zysku = przeslanki_indeksy[entropie_przeslanek.index(max(entropie_przeslanek))]\n",
    "\n",
    "        return nazwy_przeslanek[indeks_przeslanka_o_najwiekszym_zysku], indeks_przeslanka_o_najwiekszym_zysku\n",
    "\n",
    "def _id3_2(dane, atrybuty):\n",
    "        \n",
    "        drzewo = [] \n",
    "        (unique, counts) = np.unique(dane[:, -1], return_counts=True)\n",
    "        slownik = dict(zip(unique, counts))\n",
    "        for wartosc in slownik:\n",
    "            if slownik[wartosc] == len(dane):\n",
    "                drzewo.append(wartosc)\n",
    "                return drzewo\n",
    "        if len(atrybuty) == 0:\n",
    "                drzewo.append(max(slownik, key=slownik.get))\n",
    "                return drzewo\n",
    "        przeslanka, indeks_przeslanka = _przeslanka_o_najwiekszym_zysku_2(dane, atrybuty, range(len(atrybuty)))\n",
    "        drzewo.append(przeslanka)\n",
    "        atrybuty = np.delete(atrybuty, indeks_przeslanka)\n",
    "        for wartosc in np.unique(dane[:, indeks_przeslanka]):\n",
    "                podzbior = dane[dane[:, indeks_przeslanka] == wartosc]\n",
    "                podzbior = np.delete(podzbior, indeks_przeslanka, axis=1)\n",
    "                drzewo.append([wartosc, _id3_2(podzbior, atrybuty)])\n",
    "\n",
    "        return drzewo\n",
    "\n",
    "def _rysuj_drzewo_2(drzewo, graf=None, i=0, s = \"\"):\n",
    "        if graf is None:\n",
    "                graf = Digraph()\n",
    "        if i == 0:\n",
    "                graf.node(s + str(i), drzewo[0])\n",
    "        for j in range(1, len(drzewo)):\n",
    "                graf.node(s + str(i) + str(j), drzewo[j][1][0])\n",
    "                graf.edge(s + str(i), s + str(i) + str(j), label=drzewo[j][0])\n",
    "                _rysuj_drzewo(drzewo[j][1], graf, j, s + str(i))\n",
    "                \n",
    "        return graf"
   ]
  },
  {
   "attachments": {},
   "cell_type": "markdown",
   "metadata": {},
   "source": [
    "importowanie danych i rysowanie drzewa"
   ]
  },
  {
   "cell_type": "code",
   "execution_count": 40,
   "metadata": {},
   "outputs": [
    {
     "data": {
      "text/plain": [
       "'drzewo niebinarne.pdf'"
      ]
     },
     "execution_count": 40,
     "metadata": {},
     "output_type": "execute_result"
    }
   ],
   "source": [
    "dane = pd.read_csv(\"sport.csv\", header=None).to_numpy()\n",
    "_rysuj_drzewo_2(_id3_2(dane[1:, :], dane[0, :-1])).render('drzewo niebinarne', view=True)"
   ]
  },
  {
   "cell_type": "markdown",
   "metadata": {},
   "source": []
  }
 ],
 "metadata": {
  "kernelspec": {
   "display_name": "Python 3",
   "language": "python",
   "name": "python3"
  },
  "language_info": {
   "codemirror_mode": {
    "name": "ipython",
    "version": 3
   },
   "file_extension": ".py",
   "mimetype": "text/x-python",
   "name": "python",
   "nbconvert_exporter": "python",
   "pygments_lexer": "ipython3",
   "version": "3.9.10"
  },
  "orig_nbformat": 4
 },
 "nbformat": 4,
 "nbformat_minor": 2
}
